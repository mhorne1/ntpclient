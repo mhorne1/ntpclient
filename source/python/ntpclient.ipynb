{
 "cells": [
  {
   "cell_type": "code",
   "execution_count": null,
   "metadata": {},
   "outputs": [],
   "source": [
    "'''\n",
    "(C) 2014 David Lettier.\n",
    "http://www.lettier.com/\n",
    "NTP client.\n",
    "'''\n",
    "\n",
    "from socket import AF_INET, SOCK_DGRAM # For setting up the UDP packet.\n",
    "import sys\n",
    "import socket\n",
    "import struct, time # To unpack the packet sent back and to convert the seconds to a string.\n",
    "\n",
    "host = \"pool.ntp.org\"; # The server.\n",
    "port = 123; # Port.\n",
    "read_buffer = 1024; # The size of the buffer to read in the received UDP packet.\n",
    "address = ( host, port ); # Tuple needed by sendto.\n",
    "data = '\\x1b' + 47 * '\\0'; # Hex message to send to the server.\n",
    "\n",
    "epoch = 2208988800L; # Time in seconds since Jan, 1970 for UNIX epoch.\n",
    "\n",
    "client = socket.socket( AF_INET, SOCK_DGRAM ); # Internet, UDP\n",
    "\n",
    "client.sendto( data, address ); # Aend the UDP packet to the server on the port.\n",
    "\n",
    "data, address = client.recvfrom( read_buffer ); # Get the response and put it in data and put the send socket address into address.\n",
    "\n",
    "t = struct.unpack( \"!12I\", data )[ 10 ]; # Unpack the binary data and get the seconds out.\n",
    "\n",
    "t -= epoch; # Calculate seconds since the epoch.\n",
    "\n",
    "print \"Time = %s\" % time.ctime( t ); # Print the seconds as a formatted string."
   ]
  }
 ],
 "metadata": {
  "kernelspec": {
   "display_name": "Python 3",
   "language": "python",
   "name": "python3"
  },
  "language_info": {
   "codemirror_mode": {
    "name": "ipython",
    "version": 3
   },
   "file_extension": ".py",
   "mimetype": "text/x-python",
   "name": "python",
   "nbconvert_exporter": "python",
   "pygments_lexer": "ipython3",
   "version": "3.7.3"
  }
 },
 "nbformat": 4,
 "nbformat_minor": 2
}
